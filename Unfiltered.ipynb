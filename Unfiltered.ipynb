{
 "cells": [
  {
   "cell_type": "code",
   "execution_count": 2,
   "id": "cf1b8d00",
   "metadata": {},
   "outputs": [],
   "source": [
    "import numpy as np\n",
    "import pandas as pd"
   ]
  },
  {
   "cell_type": "code",
   "execution_count": 3,
   "id": "1cab0890",
   "metadata": {},
   "outputs": [],
   "source": [
    "new_df = pd.read_csv('new_df_tags.csv')"
   ]
  },
  {
   "cell_type": "code",
   "execution_count": 4,
   "id": "943e1d9b",
   "metadata": {},
   "outputs": [
    {
     "data": {
      "text/html": [
       "<div>\n",
       "<style scoped>\n",
       "    .dataframe tbody tr th:only-of-type {\n",
       "        vertical-align: middle;\n",
       "    }\n",
       "\n",
       "    .dataframe tbody tr th {\n",
       "        vertical-align: top;\n",
       "    }\n",
       "\n",
       "    .dataframe thead th {\n",
       "        text-align: right;\n",
       "    }\n",
       "</style>\n",
       "<table border=\"1\" class=\"dataframe\">\n",
       "  <thead>\n",
       "    <tr style=\"text-align: right;\">\n",
       "      <th></th>\n",
       "      <th>movie_id</th>\n",
       "      <th>title</th>\n",
       "      <th>tags</th>\n",
       "    </tr>\n",
       "  </thead>\n",
       "  <tbody>\n",
       "    <tr>\n",
       "      <th>0</th>\n",
       "      <td>19995</td>\n",
       "      <td>Avatar</td>\n",
       "      <td>In the 22nd century, a paraplegic Marine is di...</td>\n",
       "    </tr>\n",
       "    <tr>\n",
       "      <th>1</th>\n",
       "      <td>285</td>\n",
       "      <td>Pirates of the Caribbean: At World's End</td>\n",
       "      <td>Captain Barbossa, long believed to be dead, ha...</td>\n",
       "    </tr>\n",
       "    <tr>\n",
       "      <th>2</th>\n",
       "      <td>206647</td>\n",
       "      <td>Spectre</td>\n",
       "      <td>A cryptic message from Bond’s past sends him o...</td>\n",
       "    </tr>\n",
       "    <tr>\n",
       "      <th>3</th>\n",
       "      <td>49026</td>\n",
       "      <td>The Dark Knight Rises</td>\n",
       "      <td>Following the death of District Attorney Harve...</td>\n",
       "    </tr>\n",
       "    <tr>\n",
       "      <th>4</th>\n",
       "      <td>49529</td>\n",
       "      <td>John Carter</td>\n",
       "      <td>John Carter is a war-weary, former military ca...</td>\n",
       "    </tr>\n",
       "  </tbody>\n",
       "</table>\n",
       "</div>"
      ],
      "text/plain": [
       "   movie_id                                     title  \\\n",
       "0     19995                                    Avatar   \n",
       "1       285  Pirates of the Caribbean: At World's End   \n",
       "2    206647                                   Spectre   \n",
       "3     49026                     The Dark Knight Rises   \n",
       "4     49529                               John Carter   \n",
       "\n",
       "                                                tags  \n",
       "0  In the 22nd century, a paraplegic Marine is di...  \n",
       "1  Captain Barbossa, long believed to be dead, ha...  \n",
       "2  A cryptic message from Bond’s past sends him o...  \n",
       "3  Following the death of District Attorney Harve...  \n",
       "4  John Carter is a war-weary, former military ca...  "
      ]
     },
     "execution_count": 4,
     "metadata": {},
     "output_type": "execute_result"
    }
   ],
   "source": [
    "new_df.head()"
   ]
  },
  {
   "cell_type": "code",
   "execution_count": 5,
   "id": "7d592fd2",
   "metadata": {},
   "outputs": [
    {
     "name": "stdout",
     "output_type": "stream",
     "text": [
      "Movie Name: Avatar (Movie ID: 19995)\n",
      "Movie Name: Pirates of the Caribbean: At World's End (Movie ID: 285)\n"
     ]
    }
   ],
   "source": [
    "data = [\n",
    "    (19995, \"Avatar\", \"In the 22nd century, a paraplegic Marine is dispatched to the moon Pandora on a unique mission, but becomes torn between following orders and protecting an alien civilization. Action Adventure Fantasy ScienceFiction cultureclash future spacewar spacecolony society spacetravel futuristic romance space alien tribe alienplanet cgi marine soldier battle loveaffair antiwar powerrelations mindandsoul 3d SamWorthington ZoeSaldana SigourneyWeaver JamesCameron\"),\n",
    "    (285, \"Pirates of the Caribbean: At World's End\", \"Captain Barbossa, long believed to be dead, has come back to life and is headed to the edge of the Earth with Will Turner and Elizabeth Swann. But nothing is quite as it seems. Adventure Fantasy Action ocean drugabuse exoticisland eastindiatradingcompany loveofone'slife traitor shipwreck strongwoman ship alliance calypso afterlife fighter pirate swashbuckler aftercreditsstinger JohnnyDepp OrlandoBloom KeiraKnightley GoreVerbinski JamesCameron\"),\n",
    "    (206647, \"Spectre\", \"A cryptic message from Bondâ€™s past sends him on a trail to uncover a sinister organization. While M battles political forces to keep the secret service alive, Bond peels back the layers of deceit to reveal the terrible truth behind SPECTRE. Action Adventure Crime spy basedonnovel secretagent sequel mi6 britishsecretservice unitedkingdom DanielCraig ChristophWaltz LÃ©aSeydoux SamMendes\"),\n",
    "    (49026, \"The Dark Knight Rises\", \"Following the death of District Attorney Harvey Dent, Batman assumes responsibility for Dent's crimes to protect the late attorney's reputation and is subsequently hunted by the Gotham City Police Department. Eight years later, Batman encounters the mysterious Selina Kyle and the villainous Bane, a new terrorist leader who overwhelms Gotham's finest. The Dark Knight resurfaces to protect a city that has branded him an enemy. Action Crime Drama Thriller dccomics crimefighter terrorist secretidentity burglar hostagedrama timebomb gothamcity vigilante cover-up superhero villainess tragichero terrorism destruction catwoman catburglar imax flood criminalunderworld batman ChristianBale MichaelCaine GaryOldman ChristopherNolan\"),\n",
    "    (49529, \"John Carter\", \"John Carter is a war-weary, former military captain who's inexplicably transported to the mysterious and exotic planet of Barsoom (Mars) and reluctantly becomes embroiled in an epic conflict. It's a world on the brink of collapse, and Carter rediscovers his humanity when he realizes the survival of Barsoom and its people rests in his hands. Action Adventure ScienceFiction basedonnovel mars medallion spacetravel princess alien steampunk martian escape edgarriceburroughs alienrace superhumanstrength marscivilization swordandplanet 19thcentury 3d TaylorKitsch LynnCollins SamanthaMorton AndrewStanton\"),\n",
    "    (559, \"Spider-Man 3\", \"The seemingly invincible Spider-Man goes up against an all-new crop of villain â€“ including the shape-shifting Sandman. While Spider-Manâ€™s superpowers are altered by an alien organism, his alter ego, Peter Parker, deals with nemesis Eddie Brock and also gets caught up in a love triangle. Fantasy Action Adventure dualidentity amnesia sandstorm loveofone'slife forgiveness spider wretch deathofafriend egomania sand narcism hostility marvelcomic sequel superhero revenge TobeyMaguire KirstenDunst JamesFranco SamRaimi\")\n",
    "]\n",
    "\n",
    "# Initialize a dictionary to store movie names\n",
    "movie_names = {}\n",
    "\n",
    "# Search for sentences containing \"JamesCameron\"\n",
    "for movie_id, movie_name, description in data:\n",
    "    if \"JamesCameron\" in description:\n",
    "        movie_names[movie_id] = movie_name\n",
    "\n",
    "# Print the movie names\n",
    "for movie_id, movie_name in movie_names.items():\n",
    "    print(f\"Movie Name: {movie_name} (Movie ID: {movie_id})\")\n"
   ]
  },
  {
   "cell_type": "code",
   "execution_count": 6,
   "id": "d5549754",
   "metadata": {},
   "outputs": [
    {
     "name": "stdout",
     "output_type": "stream",
     "text": [
      "Movies directed by James Cameron:\n",
      "Spectre\n",
      "The Dark Knight Rises\n"
     ]
    }
   ],
   "source": [
    "import pandas as pd\n",
    "\n",
    "hello_data = [\n",
    "    (19995, \"Avatar\", \"In the 22nd century, a paraplegic Marine is dispatched to the moon Pandora on a unique mission, but becomes torn between following orders and protecting an alien civilization. Action Adventure Fantasy ScienceFiction cultureclash future spacewar spacecolony society spacetravel futuristic romance space alien tribe alienplanet cgi marine soldier battle loveaffair antiwar powerrelations mindandsoul 3d SamWorthington ZoeSaldana SigourneyWeaver JamesCameron\"),\n",
    "    (285, \"Pirates of the Caribbean: At World's End\", \"Captain Barbossa, long believed to be dead, has come back to life and is headed to the edge of the Earth with Will Turner and Elizabeth Swann. But nothing is quite as it seems. Adventure Fantasy Action ocean drugabuse exoticisland eastindiatradingcompany loveofone'slife traitor shipwreck strongwoman ship alliance calypso afterlife fighter pirate swashbuckler aftercreditsstinger JohnnyDepp OrlandoBloom KeiraKnightley GoreVerbinski JamesCameron\"),\n",
    "    (206647, \"Spectre\", \"A cryptic message from Bondâ€™s past sends him on a trail Harvey to uncover a sinister organization. While M battles political forces to keep the secret service alive, Bond peels back the layers of deceit to reveal the terrible truth behind SPECTRE. Action Adventure Crime spy basedonnovel secretagent sequel mi6 britishsecretservice unitedkingdom DanielCraig ChristophWaltz LÃ©aSeydoux SamMendes\"),\n",
    "    (49026, \"The Dark Knight Rises\", \"Following the death of District Attorney Harvey Dent, Batman assumes responsibility for Dent's crimes to protect the late attorney's reputation and is subsequently hunted by the Gotham City Police Department. Eight years later, Batman encounters the mysterious Selina Kyle and the villainous Bane, a new terrorist leader who overwhelms Gotham's finest. The Dark Knight resurfaces to protect a city that has branded him an enemy. Action Crime Drama Thriller dccomics crimefighter terrorist secretidentity burglar hostagedrama timebomb gothamcity vigilante cover-up superhero villainess tragichero terrorism destruction catwoman catburglar imax flood criminalunderworld batman ChristianBale MichaelCaine GaryOldman ChristopherNolan\"),\n",
    "    (49529, \"John Carter\", \"John Carter is a war-weary, former military captain who's inexplicably transported to the mysterious and exotic planet of Barsoom (Mars) and reluctantly becomes embroiled in an epic conflict. It's a world on the brink of collapse, and Carter rediscovers his humanity when he realizes the survival of Barsoom and its people rests in his hands. Action Adventure ScienceFiction basedonnovel mars medallion spacetravel princess alien steampunk martian escape edgarriceburroughs alienrace superhumanstrength marscivilization swordandplanet 19thcentury 3d TaylorKitsch LynnCollins SamanthaMorton AndrewStanton\"),\n",
    "    (559, \"Spider-Man 3\", \"The seemingly invincible Spider-Man goes up against an all-new crop of villain â€“ including the shape-shifting Sandman. While Spider-Manâ€™s superpowers are altered by an alien organism, his alter ego, Peter Parker, deals with nemesis Eddie Brock and also gets caught up in a love triangle. Fantasy Action Adventure dualidentity amnesia sandstorm loveofone'slife forgiveness spider wretch deathofafriend egomania sand narcism hostility marvelcomic sequel superhero revenge TobeyMaguire KirstenDunst JamesFranco SamRaimi\")\n",
    "]\n",
    "\n",
    "# Convert hello_data into a DataFrame\n",
    "columns = [\"Movie ID\", \"Movie Name\", \"Description\"]\n",
    "hello_df = pd.DataFrame(hello_data, columns=columns)\n",
    "\n",
    "# Search for sentences containing \"JamesCameron\"\n",
    "james_cameron_movies = hello_df[hello_df[\"Description\"].str.contains(\"Harvey\")]\n",
    "\n",
    "# Extract movie names\n",
    "movie_names = james_cameron_movies[\"Movie Name\"]\n",
    "\n",
    "# Display the movie names\n",
    "if not movie_names.empty:\n",
    "    print(\"Movies directed by James Cameron:\")\n",
    "    for movie_name in movie_names:\n",
    "        print(movie_name)\n",
    "else:\n",
    "    print(\"No movies directed by James Cameron found.\")\n"
   ]
  },
  {
   "cell_type": "code",
   "execution_count": 7,
   "id": "e5cb08ce",
   "metadata": {},
   "outputs": [
    {
     "name": "stdout",
     "output_type": "stream",
     "text": [
      "Movies directed by James Cameron:\n",
      "Pirates of the Caribbean: At World's End\n",
      "Pirates of the Caribbean: Dead Man's Chest\n",
      "Pirates of the Caribbean: On Stranger Tides\n",
      "Captain America: Civil War\n",
      "Star Trek Into Darkness\n",
      "Captain America: The Winter Soldier\n",
      "Madagascar 3: Europe's Most Wanted\n",
      "Captain America: The First Avenger\n",
      "The Adventures of Tintin\n",
      "Mulan\n",
      "The Manchurian Candidate\n",
      "Flight of the Phoenix\n",
      "Star Trek: Insurrection\n",
      "Sky Captain and the World of Tomorrow\n",
      "Mystery Men\n",
      "Ladder 49\n",
      "Star Trek: Nemesis\n",
      "Captain Phillips\n",
      "The Pirates! In an Adventure with Scientists!\n",
      "Star Trek: First Contact\n",
      "Star Trek: Generations\n",
      "Source Code\n",
      "1941\n",
      "Apocalypse Now\n",
      "Space Pirate Captain Harlock\n",
      "Beverly Hills Cop II\n",
      "Epic Movie\n",
      "Ladyhawke\n",
      "The Proposition\n",
      "The Son of No One\n",
      "Freedom\n",
      "The Widow of Saint-Pierre\n",
      "Barry Lyndon\n",
      "The Devil's Tomb\n",
      "The Devil's Rejects\n",
      "Elite Squad\n",
      "The Messenger\n",
      "20,000 Leagues Under the Sea\n",
      "Moby Dick\n",
      "The Best Years of Our Lives\n",
      "Slacker Uprising\n",
      "She Done Him Wrong\n"
     ]
    }
   ],
   "source": [
    "# Search for sentences containing \"JamesCameron\"\n",
    "\n",
    "var1 = 'Captain'\n",
    "var2 = 'Harvey'\n",
    "\n",
    "james_cameron_movies = new_df[new_df[\"tags\"].str.contains(var1)]\n",
    "\n",
    "# Extract movie names\n",
    "movie_names = james_cameron_movies[\"title\"]\n",
    "\n",
    "# Display the movie names\n",
    "if not movie_names.empty:\n",
    "    print(\"Movies directed by James Cameron:\")\n",
    "    for movie_name in movie_names:\n",
    "        print(movie_name)\n",
    "else:\n",
    "    print(\"No movies directed by James Cameron found.\")"
   ]
  },
  {
   "cell_type": "code",
   "execution_count": 8,
   "id": "ba2e2701",
   "metadata": {},
   "outputs": [],
   "source": [
    "hello_data = [\n",
    "    (19995, \"Avatar\", \"In the 22nd century, a paraplegic Marine is dispatched to the moon Pandora on a unique mission, but becomes torn between following orders and protecting an alien civilization. Action Adventure Fantasy ScienceFiction cultureclash future spacewar spacecolony society spacetravel futuristic romance space alien tribe alienplanet cgi marine soldier battle loveaffair antiwar powerrelations mindandsoul 3d SamWorthington ZoeSaldana SigourneyWeaver JamesCameron\"),\n",
    "    (285, \"Pirates of the Caribbean: At World's End\", \"Captain Barbossa, long believed to be dead, has come back to life and is headed to the edge of the Earth with Will Turner and Elizabeth Swann. But nothing is quite as it seems. Adventure Fantasy Action ocean drugabuse exoticisland eastindiatradingcompany loveofone'slife traitor shipwreck strongwoman ship alliance calypso afterlife fighter pirate swashbuckler aftercreditsstinger JohnnyDepp OrlandoBloom KeiraKnightley GoreVerbinski JamesCameron\"),\n",
    "    (206647, \"Spectre\", \"A cryptic message from Bondâ€™s past sends him on a trail Harvey to uncover a sinister organization. While M battles political forces to keep the secret service alive, Bond peels back the layers of deceit to reveal the terrible truth behind SPECTRE. Action Adventure Crime spy basedonnovel secretagent sequel mi6 britishsecretservice unitedkingdom DanielCraig ChristophWaltz LÃ©aSeydoux SamMendes\"),\n",
    "    (49026, \"The Dark Knight Rises\", \"Following the death of District Attorney Harvey Dent, Batman assumes responsibility for Dent's crimes to protect the late attorney's reputation and is subsequently hunted by the Gotham City Police Department. Eight years later, Batman encounters the mysterious Selina Kyle and the villainous Bane, a new terrorist leader who overwhelms Gotham's finest. The Dark Knight resurfaces to protect a city that has branded him an enemy. Action Crime Drama Thriller dccomics crimefighter terrorist secretidentity burglar hostagedrama timebomb gothamcity vigilante cover-up superhero villainess tragichero terrorism destruction catwoman catburglar imax flood criminalunderworld batman ChristianBale MichaelCaine GaryOldman ChristopherNolan\"),\n",
    "    (49529, \"John Carter\", \"John Carter is a war-weary, former military captain who's inexplicably transported to the mysterious and exotic planet of Barsoom (Mars) and reluctantly becomes embroiled in an epic conflict. It's a world on the brink of collapse, and Carter rediscovers his humanity when he realizes the survival of Barsoom and its people rests in his hands. Action Adventure ScienceFiction basedonnovel mars medallion spacetravel princess alien steampunk martian escape edgarriceburroughs alienrace superhumanstrength marscivilization swordandplanet 19thcentury 3d TaylorKitsch LynnCollins SamanthaMorton AndrewStanton\"),\n",
    "    (559, \"Spider-Man 3\", \"The seemingly invincible Fury Spider-Man goes up against an all-new crop of villain â€“ including the shape-shifting Sandman. While Spider-Manâ€™s superpowers are altered by an alien organism, his alter ego, Peter Parker, deals with nemesis Eddie Brock and also gets caught up in a love triangle. Fantasy Action Adventure dualidentity amnesia sandstorm loveofone'slife forgiveness spider wretch deathofafriend egomania sand narcism hostility marvelcomic sequel superhero revenge TobeyMaguire KirstenDunst JamesFranco SamRaimi\")\n",
    "]\n"
   ]
  },
  {
   "cell_type": "code",
   "execution_count": 11,
   "id": "16d973dc",
   "metadata": {},
   "outputs": [
    {
     "name": "stdout",
     "output_type": "stream",
     "text": [
      "the: 13802\n",
      "a: 10450\n",
      "to: 7921\n",
      "and: 7337\n",
      "of: 6871\n",
      "in: 4508\n",
      "his: 4000\n",
      "is: 3340\n",
      "with: 2527\n",
      "drama: 2361\n"
     ]
    }
   ],
   "source": [
    "import pandas as pd\n",
    "from collections import Counter\n",
    "\n",
    "# Assuming you have already loaded your data into a DataFrame\n",
    "# Replace \"your_data.csv\" with the actual file path or URL to your CSV file\n",
    "df = pd.read_csv(\"new_df_tags.csv\")\n",
    "\n",
    "# Concatenate all the descriptions into one text\n",
    "all_descriptions = \" \".join(description for description in df[\"tags\"])\n",
    "\n",
    "# Tokenize the text by splitting on spaces and converting to lowercase\n",
    "words = all_descriptions.lower().split()\n",
    "\n",
    "# Count the occurrences of each word\n",
    "word_counts = Counter(words)\n",
    "\n",
    "# Get the top ten words and their counts\n",
    "top_ten_words = word_counts.most_common(10)\n",
    "\n",
    "# Print the top ten words and their counts\n",
    "for word, count in top_ten_words:\n",
    "    print(f\"{word}: {count}\")\n"
   ]
  },
  {
   "cell_type": "code",
   "execution_count": 52,
   "id": "e7b8c57c",
   "metadata": {},
   "outputs": [
    {
     "name": "stdout",
     "output_type": "stream",
     "text": [
      "The word 'AnthonyRu' appears 4 times.\n"
     ]
    }
   ],
   "source": [
    "# Assuming you have already loaded your data into a DataFrame\n",
    "# Replace \"your_data.csv\" with the actual file path or URL to your CSV file\n",
    "# df = pd.read_csv(\"your_data.csv\")\n",
    "\n",
    "# Define the word you want to count\n",
    "word_to_count = \"AnthonyRu\"\n",
    "\n",
    "# Count the occurrences of the word in the \"Description\" column\n",
    "word_count = df[\"tags\"].str.lower().str.count(word_to_count.lower()).sum()\n",
    "\n",
    "# Print the count\n",
    "print(f\"The word '{word_to_count}' appears {word_count} times.\")\n"
   ]
  },
  {
   "cell_type": "code",
   "execution_count": null,
   "id": "c886277e",
   "metadata": {},
   "outputs": [],
   "source": []
  }
 ],
 "metadata": {
  "kernelspec": {
   "display_name": "Python 3 (ipykernel)",
   "language": "python",
   "name": "python3"
  },
  "language_info": {
   "codemirror_mode": {
    "name": "ipython",
    "version": 3
   },
   "file_extension": ".py",
   "mimetype": "text/x-python",
   "name": "python",
   "nbconvert_exporter": "python",
   "pygments_lexer": "ipython3",
   "version": "3.9.5"
  }
 },
 "nbformat": 4,
 "nbformat_minor": 5
}
